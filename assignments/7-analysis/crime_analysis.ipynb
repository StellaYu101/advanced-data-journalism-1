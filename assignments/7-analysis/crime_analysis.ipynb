{
 "cells": [
  {
   "cell_type": "markdown",
   "metadata": {},
   "source": [
    "# Crime analysis assignment"
   ]
  },
  {
   "cell_type": "markdown",
   "metadata": {},
   "source": [
    "Your job for this assignment is pretty wide open. Just take the `campus_crime.csv` file included in this directory and use some analysis tools from Pandas and Seaborn to explore it. There is no right answer here. Just use the tools we've discussed to look through the data and come up with **three story ideas**.\n",
    "\n",
    "Note: If you want to use some of your own data instead, go for it!\n",
    "\n",
    "Your assignment should be checked in to your Github repository in the form of a Jupyter notebook. It is due **Monday, Dec. 2** (the Monday after break)."
   ]
  },
  {
   "cell_type": "markdown",
   "metadata": {},
   "source": [
    "## Your code here"
   ]
  },
  {
   "cell_type": "code",
   "execution_count": 1,
   "metadata": {},
   "outputs": [
    {
     "name": "stdout",
     "output_type": "stream",
     "text": [
      "Write your code in cells starting here!\n"
     ]
    }
   ],
   "source": [
    "print(\"Write your code in cells starting here!\")"
   ]
  },
  {
   "cell_type": "markdown",
   "metadata": {},
   "source": [
    "## Other notes"
   ]
  },
  {
   "cell_type": "markdown",
   "metadata": {},
   "source": [
    "Again, there is no right answer here. There is no requirement for how long or involved the analysis has to be. You could even use my work above as a starting point.\n",
    "\n",
    "Just use this an an excuse to explore tools like [Pandas](http://pandas.pydata.org/) and [Seaborn](https://seaborn.pydata.org/), or check out other analysis tools ([agate](https://agate.readthedocs.io/en/1.6.0/), [ggplot](http://ggplot.yhathq.com)) that you might find interesting. \n",
    "\n",
    "Look at examples, use Google and explore the documentation for each of these tools. Or if there's something you can't figure out how to do, just ask me!"
   ]
  },
  {
   "cell_type": "code",
   "execution_count": null,
   "metadata": {},
   "outputs": [],
   "source": []
  }
 ],
 "metadata": {
  "kernelspec": {
   "display_name": "Python 3",
   "language": "python",
   "name": "python3"
  },
  "language_info": {
   "codemirror_mode": {
    "name": "ipython",
    "version": 3
   },
   "file_extension": ".py",
   "mimetype": "text/x-python",
   "name": "python",
   "nbconvert_exporter": "python",
   "pygments_lexer": "ipython3",
   "version": "3.7.4"
  }
 },
 "nbformat": 4,
 "nbformat_minor": 1
}
